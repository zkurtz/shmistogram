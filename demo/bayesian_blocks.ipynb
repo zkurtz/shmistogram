{
 "cells": [
  {
   "cell_type": "markdown",
   "metadata": {},
   "source": [
    "# Bayesian blocks\n",
    "\n",
    "[Bayesian block representations](https://arxiv.org/pdf/1207.5578.pdf) produce a piecewise-uniform density estimate with Bayesian underpinnings.\n",
    "\n",
    "The [implementation in astropy](https://github.com/astropy/astropy/blob/master/astropy/stats/bayesian_blocks.py) is the best that we've found:"
   ]
  },
  {
   "cell_type": "code",
   "execution_count": 57,
   "metadata": {},
   "outputs": [
    {
     "data": {
      "image/png": "[encoded data removed]",
      "text/plain": [
       "<Figure size 432x288 with 1 Axes>"
      ]
     },
     "metadata": {
      "needs_background": "light"
     },
     "output_type": "display_data"
    }
   ],
   "source": [
    "from astropy import stats as astats\n",
    "import matplotlib\n",
    "matplotlib.use('TkAgg')\n",
    "from matplotlib import pyplot as plt\n",
    "%matplotlib inline\n",
    "import numpy as np\n",
    "from scipy import stats\n",
    "\n",
    "def cauchy_mixture():\n",
    "    ''' Simulate a mixture of Cauchy distributions\n",
    "\n",
    "    Credit: https://jakevdp.github.io/blog/2012/09/12/dynamic-programming-in-python/\n",
    "    '''\n",
    "    np.random.seed(0)\n",
    "    x = np.concatenate([\n",
    "        stats.cauchy(-5, 1.8).rvs(500),\n",
    "        stats.cauchy(-4, 0.8).rvs(2000),\n",
    "        stats.cauchy(-1, 0.3).rvs(500),\n",
    "        stats.cauchy(2, 0.8).rvs(1000),\n",
    "        stats.cauchy(4, 1.5).rvs(500)\n",
    "    ])\n",
    "    x = x[(x > -15) & (x < 15)]\n",
    "    return x\n",
    "\n",
    "def plot_blocks(blocks, name=None, return_plt=True):\n",
    "    assert isinstance(blocks, tuple)\n",
    "    assert len(blocks) == 2\n",
    "    counts = blocks[0]\n",
    "    bins = blocks[1]\n",
    "    assert len(bins) == len(counts) + 1\n",
    "    # Set up plot\n",
    "    ax = plt.subplot(111)\n",
    "    ax.spines['right'].set_visible(False)\n",
    "    ax.spines['top'].set_visible(False)\n",
    "    ax.set_ylabel('Frequency rate')\n",
    "    if name is not None:\n",
    "        ax.set_xlabel(name)\n",
    "    else:\n",
    "        ax.set_xlabel('x')\n",
    "    widths = np.diff(bins)\n",
    "    rates = counts/widths\n",
    "    # Plot\n",
    "    ax.fill_between(bins.repeat(2)[1:-1], rates.repeat(2), facecolor='grey')\n",
    "    if return_plt:\n",
    "        return ax\n",
    "\n",
    "x = cauchy_mixture()\n",
    "blocks = astats.histogram(x, bins='blocks')\n",
    "_ = plot_blocks(blocks, 'Cauchy mixture')"
   ]
  }
 ],
 "metadata": {
  "kernelspec": {
   "display_name": "Python 3",
   "language": "python",
   "name": "python3"
  },
  "language_info": {
   "codemirror_mode": {
    "name": "ipython",
    "version": 3
   },
   "file_extension": ".py",
   "mimetype": "text/x-python",
   "name": "python",
   "nbconvert_exporter": "python",
   "pygments_lexer": "ipython3",
   "version": "3.7.2"
  }
 },
 "nbformat": 4,
 "nbformat_minor": 2
}
